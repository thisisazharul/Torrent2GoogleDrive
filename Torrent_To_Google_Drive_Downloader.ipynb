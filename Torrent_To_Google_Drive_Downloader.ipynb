{
  "nbformat": 4,
  "nbformat_minor": 0,
  "metadata": {
    "colab": {
      "name": "Torrent To Google Drive Downloader",
      "provenance": [],
      "collapsed_sections": [],
      "include_colab_link": true
    },
    "kernelspec": {
      "display_name": "Python 3",
      "language": "python",
      "name": "python3"
    },
    "accelerator": "GPU"
  },
  "cells": [
    {
      "cell_type": "markdown",
      "metadata": {
        "id": "view-in-github",
        "colab_type": "text"
      },
      "source": [
        "<a href=\"https://colab.research.google.com/github/thisisazharul/Torrent2GoogleDrive/blob/main/Torrent_To_Google_Drive_Downloader.ipynb\" target=\"_parent\"><img src=\"https://colab.research.google.com/assets/colab-badge.svg\" alt=\"Open In Colab\"/></a>"
      ]
    },
    {
      "cell_type": "markdown",
      "metadata": {
        "id": "aQuWDmfm9YOi"
      },
      "source": [
        "# Torrent To Google Drive Downloader "
      ]
    },
    {
      "cell_type": "markdown",
      "metadata": {
        "id": "qYk44mBwJf6E"
      },
      "source": [
        "**Important Note:** To get more disk space:\n",
        "> Go to Runtime -> Change Runtime and give GPU as the Hardware Accelerator.  You will get around 384GB to download any torrent you want."
      ]
    },
    {
      "cell_type": "markdown",
      "metadata": {
        "id": "NaFa7M-e9YOr"
      },
      "source": [
        "### Install libtorrent and Initialize Session"
      ]
    },
    {
      "cell_type": "code",
      "metadata": {
        "id": "m6hF0emftx4h",
        "colab": {
          "base_uri": "https://localhost:8080/"
        },
        "outputId": "312d9b1d-92e9-4223-81da-4c49323c56ce"
      },
      "source": [
        "!python -m pip install --upgrade pip setuptools wheel\n",
        "!python -m pip install lbry-libtorrent\n",
        "!apt install python3-libtorrent\n",
        "\n",
        "import libtorrent as lt\n",
        "\n",
        "ses = lt.session()\n",
        "ses.listen_on(6881, 6891)\n",
        "downloads = []"
      ],
      "execution_count": 2,
      "outputs": [
        {
          "output_type": "stream",
          "text": [
            "Collecting pip\n",
            "\u001b[?25l  Downloading https://files.pythonhosted.org/packages/47/ca/f0d790b6e18b3a6f3bd5e80c2ee4edbb5807286c21cdd0862ca933f751dd/pip-21.1.3-py3-none-any.whl (1.5MB)\n",
            "\r\u001b[K     |▏                               | 10kB 17.4MB/s eta 0:00:01\r\u001b[K     |▍                               | 20kB 18.2MB/s eta 0:00:01\r\u001b[K     |▋                               | 30kB 14.8MB/s eta 0:00:01\r\u001b[K     |▉                               | 40kB 13.2MB/s eta 0:00:01\r\u001b[K     |█                               | 51kB 8.6MB/s eta 0:00:01\r\u001b[K     |█▎                              | 61kB 9.0MB/s eta 0:00:01\r\u001b[K     |█▌                              | 71kB 9.7MB/s eta 0:00:01\r\u001b[K     |█▊                              | 81kB 9.9MB/s eta 0:00:01\r\u001b[K     |██                              | 92kB 9.8MB/s eta 0:00:01\r\u001b[K     |██▏                             | 102kB 8.5MB/s eta 0:00:01\r\u001b[K     |██▎                             | 112kB 8.5MB/s eta 0:00:01\r\u001b[K     |██▌                             | 122kB 8.5MB/s eta 0:00:01\r\u001b[K     |██▊                             | 133kB 8.5MB/s eta 0:00:01\r\u001b[K     |███                             | 143kB 8.5MB/s eta 0:00:01\r\u001b[K     |███▏                            | 153kB 8.5MB/s eta 0:00:01\r\u001b[K     |███▍                            | 163kB 8.5MB/s eta 0:00:01\r\u001b[K     |███▋                            | 174kB 8.5MB/s eta 0:00:01\r\u001b[K     |███▉                            | 184kB 8.5MB/s eta 0:00:01\r\u001b[K     |████                            | 194kB 8.5MB/s eta 0:00:01\r\u001b[K     |████▎                           | 204kB 8.5MB/s eta 0:00:01\r\u001b[K     |████▌                           | 215kB 8.5MB/s eta 0:00:01\r\u001b[K     |████▋                           | 225kB 8.5MB/s eta 0:00:01\r\u001b[K     |████▉                           | 235kB 8.5MB/s eta 0:00:01\r\u001b[K     |█████                           | 245kB 8.5MB/s eta 0:00:01\r\u001b[K     |█████▎                          | 256kB 8.5MB/s eta 0:00:01\r\u001b[K     |█████▌                          | 266kB 8.5MB/s eta 0:00:01\r\u001b[K     |█████▊                          | 276kB 8.5MB/s eta 0:00:01\r\u001b[K     |██████                          | 286kB 8.5MB/s eta 0:00:01\r\u001b[K     |██████▏                         | 296kB 8.5MB/s eta 0:00:01\r\u001b[K     |██████▍                         | 307kB 8.5MB/s eta 0:00:01\r\u001b[K     |██████▋                         | 317kB 8.5MB/s eta 0:00:01\r\u001b[K     |██████▊                         | 327kB 8.5MB/s eta 0:00:01\r\u001b[K     |███████                         | 337kB 8.5MB/s eta 0:00:01\r\u001b[K     |███████▏                        | 348kB 8.5MB/s eta 0:00:01\r\u001b[K     |███████▍                        | 358kB 8.5MB/s eta 0:00:01\r\u001b[K     |███████▋                        | 368kB 8.5MB/s eta 0:00:01\r\u001b[K     |███████▉                        | 378kB 8.5MB/s eta 0:00:01\r\u001b[K     |████████                        | 389kB 8.5MB/s eta 0:00:01\r\u001b[K     |████████▎                       | 399kB 8.5MB/s eta 0:00:01\r\u001b[K     |████████▌                       | 409kB 8.5MB/s eta 0:00:01\r\u001b[K     |████████▊                       | 419kB 8.5MB/s eta 0:00:01\r\u001b[K     |█████████                       | 430kB 8.5MB/s eta 0:00:01\r\u001b[K     |█████████                       | 440kB 8.5MB/s eta 0:00:01\r\u001b[K     |█████████▎                      | 450kB 8.5MB/s eta 0:00:01\r\u001b[K     |█████████▌                      | 460kB 8.5MB/s eta 0:00:01\r\u001b[K     |█████████▊                      | 471kB 8.5MB/s eta 0:00:01\r\u001b[K     |██████████                      | 481kB 8.5MB/s eta 0:00:01\r\u001b[K     |██████████▏                     | 491kB 8.5MB/s eta 0:00:01\r\u001b[K     |██████████▍                     | 501kB 8.5MB/s eta 0:00:01\r\u001b[K     |██████████▋                     | 512kB 8.5MB/s eta 0:00:01\r\u001b[K     |██████████▉                     | 522kB 8.5MB/s eta 0:00:01\r\u001b[K     |███████████                     | 532kB 8.5MB/s eta 0:00:01\r\u001b[K     |███████████▏                    | 542kB 8.5MB/s eta 0:00:01\r\u001b[K     |███████████▍                    | 552kB 8.5MB/s eta 0:00:01\r\u001b[K     |███████████▋                    | 563kB 8.5MB/s eta 0:00:01\r\u001b[K     |███████████▉                    | 573kB 8.5MB/s eta 0:00:01\r\u001b[K     |████████████                    | 583kB 8.5MB/s eta 0:00:01\r\u001b[K     |████████████▎                   | 593kB 8.5MB/s eta 0:00:01\r\u001b[K     |████████████▌                   | 604kB 8.5MB/s eta 0:00:01\r\u001b[K     |████████████▊                   | 614kB 8.5MB/s eta 0:00:01\r\u001b[K     |█████████████                   | 624kB 8.5MB/s eta 0:00:01\r\u001b[K     |█████████████▏                  | 634kB 8.5MB/s eta 0:00:01\r\u001b[K     |█████████████▍                  | 645kB 8.5MB/s eta 0:00:01\r\u001b[K     |█████████████▌                  | 655kB 8.5MB/s eta 0:00:01\r\u001b[K     |█████████████▊                  | 665kB 8.5MB/s eta 0:00:01\r\u001b[K     |██████████████                  | 675kB 8.5MB/s eta 0:00:01\r\u001b[K     |██████████████▏                 | 686kB 8.5MB/s eta 0:00:01\r\u001b[K     |██████████████▍                 | 696kB 8.5MB/s eta 0:00:01\r\u001b[K     |██████████████▋                 | 706kB 8.5MB/s eta 0:00:01\r\u001b[K     |██████████████▉                 | 716kB 8.5MB/s eta 0:00:01\r\u001b[K     |███████████████                 | 727kB 8.5MB/s eta 0:00:01\r\u001b[K     |███████████████▎                | 737kB 8.5MB/s eta 0:00:01\r\u001b[K     |███████████████▌                | 747kB 8.5MB/s eta 0:00:01\r\u001b[K     |███████████████▋                | 757kB 8.5MB/s eta 0:00:01\r\u001b[K     |███████████████▉                | 768kB 8.5MB/s eta 0:00:01\r\u001b[K     |████████████████                | 778kB 8.5MB/s eta 0:00:01\r\u001b[K     |████████████████▎               | 788kB 8.5MB/s eta 0:00:01\r\u001b[K     |████████████████▌               | 798kB 8.5MB/s eta 0:00:01\r\u001b[K     |████████████████▊               | 808kB 8.5MB/s eta 0:00:01\r\u001b[K     |█████████████████               | 819kB 8.5MB/s eta 0:00:01\r\u001b[K     |█████████████████▏              | 829kB 8.5MB/s eta 0:00:01\r\u001b[K     |█████████████████▍              | 839kB 8.5MB/s eta 0:00:01\r\u001b[K     |█████████████████▋              | 849kB 8.5MB/s eta 0:00:01\r\u001b[K     |█████████████████▉              | 860kB 8.5MB/s eta 0:00:01\r\u001b[K     |██████████████████              | 870kB 8.5MB/s eta 0:00:01\r\u001b[K     |██████████████████▏             | 880kB 8.5MB/s eta 0:00:01\r\u001b[K     |██████████████████▍             | 890kB 8.5MB/s eta 0:00:01\r\u001b[K     |██████████████████▋             | 901kB 8.5MB/s eta 0:00:01\r\u001b[K     |██████████████████▉             | 911kB 8.5MB/s eta 0:00:01\r\u001b[K     |███████████████████             | 921kB 8.5MB/s eta 0:00:01\r\u001b[K     |███████████████████▎            | 931kB 8.5MB/s eta 0:00:01\r\u001b[K     |███████████████████▌            | 942kB 8.5MB/s eta 0:00:01\r\u001b[K     |███████████████████▊            | 952kB 8.5MB/s eta 0:00:01\r\u001b[K     |████████████████████            | 962kB 8.5MB/s eta 0:00:01\r\u001b[K     |████████████████████            | 972kB 8.5MB/s eta 0:00:01\r\u001b[K     |████████████████████▎           | 983kB 8.5MB/s eta 0:00:01\r\u001b[K     |████████████████████▌           | 993kB 8.5MB/s eta 0:00:01\r\u001b[K     |████████████████████▊           | 1.0MB 8.5MB/s eta 0:00:01\r\u001b[K     |█████████████████████           | 1.0MB 8.5MB/s eta 0:00:01\r\u001b[K     |█████████████████████▏          | 1.0MB 8.5MB/s eta 0:00:01\r\u001b[K     |█████████████████████▍          | 1.0MB 8.5MB/s eta 0:00:01\r\u001b[K     |█████████████████████▋          | 1.0MB 8.5MB/s eta 0:00:01\r\u001b[K     |█████████████████████▉          | 1.1MB 8.5MB/s eta 0:00:01\r\u001b[K     |██████████████████████          | 1.1MB 8.5MB/s eta 0:00:01\r\u001b[K     |██████████████████████▎         | 1.1MB 8.5MB/s eta 0:00:01\r\u001b[K     |██████████████████████▍         | 1.1MB 8.5MB/s eta 0:00:01\r\u001b[K     |██████████████████████▋         | 1.1MB 8.5MB/s eta 0:00:01\r\u001b[K     |██████████████████████▉         | 1.1MB 8.5MB/s eta 0:00:01\r\u001b[K     |███████████████████████         | 1.1MB 8.5MB/s eta 0:00:01\r\u001b[K     |███████████████████████▎        | 1.1MB 8.5MB/s eta 0:00:01\r\u001b[K     |███████████████████████▌        | 1.1MB 8.5MB/s eta 0:00:01\r\u001b[K     |███████████████████████▊        | 1.1MB 8.5MB/s eta 0:00:01\r\u001b[K     |████████████████████████        | 1.2MB 8.5MB/s eta 0:00:01\r\u001b[K     |████████████████████████▏       | 1.2MB 8.5MB/s eta 0:00:01\r\u001b[K     |████████████████████████▍       | 1.2MB 8.5MB/s eta 0:00:01\r\u001b[K     |████████████████████████▌       | 1.2MB 8.5MB/s eta 0:00:01\r\u001b[K     |████████████████████████▊       | 1.2MB 8.5MB/s eta 0:00:01\r\u001b[K     |█████████████████████████       | 1.2MB 8.5MB/s eta 0:00:01\r\u001b[K     |█████████████████████████▏      | 1.2MB 8.5MB/s eta 0:00:01\r\u001b[K     |█████████████████████████▍      | 1.2MB 8.5MB/s eta 0:00:01\r\u001b[K     |█████████████████████████▋      | 1.2MB 8.5MB/s eta 0:00:01\r\u001b[K     |█████████████████████████▉      | 1.2MB 8.5MB/s eta 0:00:01\r\u001b[K     |██████████████████████████      | 1.3MB 8.5MB/s eta 0:00:01\r\u001b[K     |██████████████████████████▎     | 1.3MB 8.5MB/s eta 0:00:01\r\u001b[K     |██████████████████████████▌     | 1.3MB 8.5MB/s eta 0:00:01\r\u001b[K     |██████████████████████████▊     | 1.3MB 8.5MB/s eta 0:00:01\r\u001b[K     |██████████████████████████▉     | 1.3MB 8.5MB/s eta 0:00:01\r\u001b[K     |███████████████████████████     | 1.3MB 8.5MB/s eta 0:00:01\r\u001b[K     |███████████████████████████▎    | 1.3MB 8.5MB/s eta 0:00:01\r\u001b[K     |███████████████████████████▌    | 1.3MB 8.5MB/s eta 0:00:01\r\u001b[K     |███████████████████████████▊    | 1.3MB 8.5MB/s eta 0:00:01\r\u001b[K     |████████████████████████████    | 1.4MB 8.5MB/s eta 0:00:01\r\u001b[K     |████████████████████████████▏   | 1.4MB 8.5MB/s eta 0:00:01\r\u001b[K     |████████████████████████████▍   | 1.4MB 8.5MB/s eta 0:00:01\r\u001b[K     |████████████████████████████▋   | 1.4MB 8.5MB/s eta 0:00:01\r\u001b[K     |████████████████████████████▉   | 1.4MB 8.5MB/s eta 0:00:01\r\u001b[K     |█████████████████████████████   | 1.4MB 8.5MB/s eta 0:00:01\r\u001b[K     |█████████████████████████████▏  | 1.4MB 8.5MB/s eta 0:00:01\r\u001b[K     |█████████████████████████████▍  | 1.4MB 8.5MB/s eta 0:00:01\r\u001b[K     |█████████████████████████████▋  | 1.4MB 8.5MB/s eta 0:00:01\r\u001b[K     |█████████████████████████████▉  | 1.4MB 8.5MB/s eta 0:00:01\r\u001b[K     |██████████████████████████████  | 1.5MB 8.5MB/s eta 0:00:01\r\u001b[K     |██████████████████████████████▎ | 1.5MB 8.5MB/s eta 0:00:01\r\u001b[K     |██████████████████████████████▌ | 1.5MB 8.5MB/s eta 0:00:01\r\u001b[K     |██████████████████████████████▊ | 1.5MB 8.5MB/s eta 0:00:01\r\u001b[K     |███████████████████████████████ | 1.5MB 8.5MB/s eta 0:00:01\r\u001b[K     |███████████████████████████████▏| 1.5MB 8.5MB/s eta 0:00:01\r\u001b[K     |███████████████████████████████▎| 1.5MB 8.5MB/s eta 0:00:01\r\u001b[K     |███████████████████████████████▌| 1.5MB 8.5MB/s eta 0:00:01\r\u001b[K     |███████████████████████████████▊| 1.5MB 8.5MB/s eta 0:00:01\r\u001b[K     |████████████████████████████████| 1.5MB 8.5MB/s eta 0:00:01\r\u001b[K     |████████████████████████████████| 1.6MB 8.5MB/s \n",
            "\u001b[?25hRequirement already up-to-date: setuptools in /usr/local/lib/python3.7/dist-packages (57.0.0)\n",
            "Requirement already up-to-date: wheel in /usr/local/lib/python3.7/dist-packages (0.36.2)\n",
            "Installing collected packages: pip\n",
            "  Found existing installation: pip 19.3.1\n",
            "    Uninstalling pip-19.3.1:\n",
            "      Successfully uninstalled pip-19.3.1\n",
            "Successfully installed pip-21.1.3\n",
            "Collecting lbry-libtorrent\n",
            "  Downloading lbry_libtorrent-1.2.4-py3-none-any.whl (2.4 MB)\n",
            "\u001b[K     |████████████████████████████████| 2.4 MB 8.6 MB/s \n",
            "\u001b[?25hInstalling collected packages: lbry-libtorrent\n",
            "Successfully installed lbry-libtorrent-1.2.4\n",
            "\u001b[33mWARNING: Running pip as the 'root' user can result in broken permissions and conflicting behaviour with the system package manager. It is recommended to use a virtual environment instead: https://pip.pypa.io/warnings/venv\u001b[0m\n",
            "Reading package lists... Done\n",
            "Building dependency tree       \n",
            "Reading state information... Done\n",
            "python3-libtorrent is already the newest version (1.1.5-1build1).\n",
            "0 upgraded, 0 newly installed, 0 to remove and 39 not upgraded.\n"
          ],
          "name": "stdout"
        }
      ]
    },
    {
      "cell_type": "markdown",
      "metadata": {
        "id": "Uf90U73y9YOj"
      },
      "source": [
        "### Mount Google Drive\n",
        "To stream files we need to mount Google Drive."
      ]
    },
    {
      "cell_type": "code",
      "metadata": {
        "id": "oWM9l2fvtuvO"
      },
      "source": [
        "from google.colab import drive\n",
        "\n",
        "drive.mount(\"/content/drive\")"
      ],
      "execution_count": null,
      "outputs": []
    },
    {
      "cell_type": "markdown",
      "metadata": {
        "id": "R_1XuuIf9YOn"
      },
      "source": [
        "### Add From Torrent File\n",
        "You can run this cell to add more files as many times as you want"
      ]
    },
    {
      "cell_type": "code",
      "metadata": {
        "id": "0et2A6N3udA0"
      },
      "source": [
        "from google.colab import files\n",
        "\n",
        "source = files.upload()\n",
        "params = {\n",
        "    \"save_path\": \"/content/drive/My Drive/Torrent\",\n",
        "    \"ti\": lt.torrent_info(list(source.keys())[0]),\n",
        "}\n",
        "downloads.append(ses.add_torrent(params))"
      ],
      "execution_count": null,
      "outputs": []
    },
    {
      "cell_type": "markdown",
      "metadata": {
        "id": "WD-6M6eZyzmj"
      },
      "source": [
        "### Add From Magnet Link\n",
        "You can run this cell to add more files as many times as you want"
      ]
    },
    {
      "cell_type": "code",
      "metadata": {
        "id": "Cwi1GMlxy3te"
      },
      "source": [
        "params = {\"save_path\": \"/content/drive/My Drive/Torrent\"}\n",
        "\n",
        "while True:\n",
        "    magnet_link = input(\"Enter Magnet Link Or Type Exit: \")\n",
        "    if magnet_link.lower() == \"exit\":\n",
        "        break\n",
        "    downloads.append(\n",
        "        lt.add_magnet_uri(ses, magnet_link, params)\n",
        "    )\n"
      ],
      "execution_count": null,
      "outputs": []
    },
    {
      "cell_type": "markdown",
      "metadata": {
        "id": "m-a1CUP39YOu"
      },
      "source": [
        "### Start Download\n",
        "Source: https://stackoverflow.com/a/5494823/7957705 and [#3 issue](https://github.com/FKLC/Torrent-To-Google-Drive-Downloader/issues/3) which refers to this [stackoverflow question](https://stackoverflow.com/a/6053350/7957705)"
      ]
    },
    {
      "cell_type": "code",
      "metadata": {
        "id": "DBNoYYoSuDBT"
      },
      "source": [
        "import time\n",
        "from IPython.display import display\n",
        "import ipywidgets as widgets\n",
        "\n",
        "state_str = [\n",
        "    \"queued\",\n",
        "    \"checking\",\n",
        "    \"downloading metadata\",\n",
        "    \"downloading\",\n",
        "    \"finished\",\n",
        "    \"seeding\",\n",
        "    \"allocating\",\n",
        "    \"checking fastresume\",\n",
        "]\n",
        "\n",
        "layout = widgets.Layout(width=\"auto\")\n",
        "style = {\"description_width\": \"initial\"}\n",
        "download_bars = [\n",
        "    widgets.FloatSlider(\n",
        "        step=0.01, disabled=True, layout=layout, style=style\n",
        "    )\n",
        "    for _ in downloads\n",
        "]\n",
        "display(*download_bars)\n",
        "\n",
        "while downloads:\n",
        "    next_shift = 0\n",
        "    for index, download in enumerate(downloads[:]):\n",
        "        bar = download_bars[index + next_shift]\n",
        "        if not download.is_seed():\n",
        "            s = download.status()\n",
        "\n",
        "            bar.description = \" \".join(\n",
        "                [\n",
        "                    download.name(),\n",
        "                    str(s.download_rate / 1000),\n",
        "                    \"kB/s\",\n",
        "                    state_str[s.state],\n",
        "                ]\n",
        "            )\n",
        "            bar.value = s.progress * 100\n",
        "        else:\n",
        "            next_shift -= 1\n",
        "            ses.remove_torrent(download)\n",
        "            downloads.remove(download)\n",
        "            bar.close() # Seems to be not working in Colab (see https://github.com/googlecolab/colabtools/issues/726#issue-486731758)\n",
        "            download_bars.remove(bar)\n",
        "            print(download.name(), \"complete\")\n",
        "    time.sleep(1)\n"
      ],
      "execution_count": null,
      "outputs": []
    }
  ]
}